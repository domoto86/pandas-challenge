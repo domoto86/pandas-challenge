{
 "cells": [
  {
   "cell_type": "code",
   "execution_count": 1,
   "id": "65db4528",
   "metadata": {},
   "outputs": [
    {
     "data": {
      "text/html": [
       "<div>\n",
       "<style scoped>\n",
       "    .dataframe tbody tr th:only-of-type {\n",
       "        vertical-align: middle;\n",
       "    }\n",
       "\n",
       "    .dataframe tbody tr th {\n",
       "        vertical-align: top;\n",
       "    }\n",
       "\n",
       "    .dataframe thead th {\n",
       "        text-align: right;\n",
       "    }\n",
       "</style>\n",
       "<table border=\"1\" class=\"dataframe\">\n",
       "  <thead>\n",
       "    <tr style=\"text-align: right;\">\n",
       "      <th></th>\n",
       "      <th>Student ID</th>\n",
       "      <th>student_name</th>\n",
       "      <th>gender</th>\n",
       "      <th>grade</th>\n",
       "      <th>school_name</th>\n",
       "      <th>reading_score</th>\n",
       "      <th>math_score</th>\n",
       "      <th>School ID</th>\n",
       "      <th>type</th>\n",
       "      <th>size</th>\n",
       "      <th>budget</th>\n",
       "    </tr>\n",
       "  </thead>\n",
       "  <tbody>\n",
       "    <tr>\n",
       "      <th>0</th>\n",
       "      <td>0</td>\n",
       "      <td>Paul Bradley</td>\n",
       "      <td>M</td>\n",
       "      <td>9th</td>\n",
       "      <td>Huang High School</td>\n",
       "      <td>66</td>\n",
       "      <td>79</td>\n",
       "      <td>0</td>\n",
       "      <td>District</td>\n",
       "      <td>2917</td>\n",
       "      <td>1910635</td>\n",
       "    </tr>\n",
       "    <tr>\n",
       "      <th>1</th>\n",
       "      <td>1</td>\n",
       "      <td>Victor Smith</td>\n",
       "      <td>M</td>\n",
       "      <td>12th</td>\n",
       "      <td>Huang High School</td>\n",
       "      <td>94</td>\n",
       "      <td>61</td>\n",
       "      <td>0</td>\n",
       "      <td>District</td>\n",
       "      <td>2917</td>\n",
       "      <td>1910635</td>\n",
       "    </tr>\n",
       "    <tr>\n",
       "      <th>2</th>\n",
       "      <td>2</td>\n",
       "      <td>Kevin Rodriguez</td>\n",
       "      <td>M</td>\n",
       "      <td>12th</td>\n",
       "      <td>Huang High School</td>\n",
       "      <td>90</td>\n",
       "      <td>60</td>\n",
       "      <td>0</td>\n",
       "      <td>District</td>\n",
       "      <td>2917</td>\n",
       "      <td>1910635</td>\n",
       "    </tr>\n",
       "    <tr>\n",
       "      <th>3</th>\n",
       "      <td>3</td>\n",
       "      <td>Dr. Richard Scott</td>\n",
       "      <td>M</td>\n",
       "      <td>12th</td>\n",
       "      <td>Huang High School</td>\n",
       "      <td>67</td>\n",
       "      <td>58</td>\n",
       "      <td>0</td>\n",
       "      <td>District</td>\n",
       "      <td>2917</td>\n",
       "      <td>1910635</td>\n",
       "    </tr>\n",
       "    <tr>\n",
       "      <th>4</th>\n",
       "      <td>4</td>\n",
       "      <td>Bonnie Ray</td>\n",
       "      <td>F</td>\n",
       "      <td>9th</td>\n",
       "      <td>Huang High School</td>\n",
       "      <td>97</td>\n",
       "      <td>84</td>\n",
       "      <td>0</td>\n",
       "      <td>District</td>\n",
       "      <td>2917</td>\n",
       "      <td>1910635</td>\n",
       "    </tr>\n",
       "  </tbody>\n",
       "</table>\n",
       "</div>"
      ],
      "text/plain": [
       "   Student ID       student_name gender grade        school_name  \\\n",
       "0           0       Paul Bradley      M   9th  Huang High School   \n",
       "1           1       Victor Smith      M  12th  Huang High School   \n",
       "2           2    Kevin Rodriguez      M  12th  Huang High School   \n",
       "3           3  Dr. Richard Scott      M  12th  Huang High School   \n",
       "4           4         Bonnie Ray      F   9th  Huang High School   \n",
       "\n",
       "   reading_score  math_score  School ID      type  size   budget  \n",
       "0             66          79          0  District  2917  1910635  \n",
       "1             94          61          0  District  2917  1910635  \n",
       "2             90          60          0  District  2917  1910635  \n",
       "3             67          58          0  District  2917  1910635  \n",
       "4             97          84          0  District  2917  1910635  "
      ]
     },
     "execution_count": 1,
     "metadata": {},
     "output_type": "execute_result"
    }
   ],
   "source": [
    "# Dependencies and Setup\n",
    "import pandas as pd\n",
    "\n",
    "# File to Load (Remember to Change These)\n",
    "school_data_to_load = \"Resources/schools_complete.csv\"\n",
    "student_data_to_load = \"Resources/students_complete.csv\"\n",
    "\n",
    "# Read School and Student Data File and store into Pandas DataFrames\n",
    "school_data = pd.read_csv(school_data_to_load)\n",
    "student_data = pd.read_csv(student_data_to_load)\n",
    "\n",
    "# Combine the data into a single dataset.  \n",
    "df = pd.merge(student_data, school_data, how=\"left\", on=[\"school_name\", \"school_name\"])\n",
    "df.head()"
   ]
  },
  {
   "cell_type": "code",
   "execution_count": 2,
   "id": "d1f221d3",
   "metadata": {},
   "outputs": [
    {
     "data": {
      "text/plain": [
       "Index(['Student ID', 'student_name', 'gender', 'grade', 'school_name',\n",
       "       'reading_score', 'math_score', 'School ID', 'type', 'size', 'budget'],\n",
       "      dtype='object')"
      ]
     },
     "execution_count": 2,
     "metadata": {},
     "output_type": "execute_result"
    }
   ],
   "source": [
    "df.columns"
   ]
  },
  {
   "cell_type": "markdown",
   "id": "58eb4bb8",
   "metadata": {},
   "source": [
    "## District Summary"
   ]
  },
  {
   "cell_type": "code",
   "execution_count": 3,
   "id": "7d0ab1a7",
   "metadata": {},
   "outputs": [
    {
     "data": {
      "text/plain": [
       "15"
      ]
     },
     "execution_count": 3,
     "metadata": {},
     "output_type": "execute_result"
    }
   ],
   "source": [
    "# Calculate the total number of unique schools\n",
    "school_count = df[\"school_name\"]\n",
    "school_count.nunique()"
   ]
  },
  {
   "cell_type": "code",
   "execution_count": 4,
   "id": "0f38010a",
   "metadata": {},
   "outputs": [
    {
     "data": {
      "text/plain": [
       "39170"
      ]
     },
     "execution_count": 4,
     "metadata": {},
     "output_type": "execute_result"
    }
   ],
   "source": [
    "# Calculate the total number of students\n",
    "student_count = df[\"Student ID\"]\n",
    "student_count.nunique()"
   ]
  },
  {
   "cell_type": "code",
   "execution_count": 5,
   "id": "d8acf880",
   "metadata": {},
   "outputs": [
    {
     "data": {
      "text/plain": [
       "24649428"
      ]
     },
     "execution_count": 5,
     "metadata": {},
     "output_type": "execute_result"
    }
   ],
   "source": [
    "# Calculate the total budget\n",
    "total_budget_df = school_data[\"budget\"].sum()\n",
    "total_budget_df"
   ]
  },
  {
   "cell_type": "code",
   "execution_count": 6,
   "id": "50cb3672",
   "metadata": {},
   "outputs": [
    {
     "data": {
      "text/plain": [
       "78.98537145774827"
      ]
     },
     "execution_count": 6,
     "metadata": {},
     "output_type": "execute_result"
    }
   ],
   "source": [
    "# Calculate the average (mean) math score\n",
    "average_math_score = df[\"math_score\"].mean()\n",
    "average_math_score"
   ]
  },
  {
   "cell_type": "code",
   "execution_count": 7,
   "id": "e75701ca",
   "metadata": {},
   "outputs": [
    {
     "data": {
      "text/plain": [
       "81.87784018381414"
      ]
     },
     "execution_count": 7,
     "metadata": {},
     "output_type": "execute_result"
    }
   ],
   "source": [
    "# Calculate the average (mean) reading score\n",
    "average_reading_score = df[\"reading_score\"].mean()\n",
    "average_reading_score"
   ]
  },
  {
   "cell_type": "code",
   "execution_count": 8,
   "id": "dce701b1",
   "metadata": {},
   "outputs": [
    {
     "data": {
      "text/plain": [
       "74.98"
      ]
     },
     "execution_count": 8,
     "metadata": {},
     "output_type": "execute_result"
    }
   ],
   "source": [
    "# Use the following to calculate the percentage of students who passed math (math scores greather than or equal to 70)\n",
    "passing_math = df.loc[(df[\"math_score\"]>=70),:]\n",
    "passing_math_count = passing_math[\"math_score\"].count()\n",
    "passed_math_rate = round((passing_math[\"math_score\"].count() / student_count.nunique()) * 100, 2)\n",
    "passed_math_rate"
   ]
  },
  {
   "cell_type": "code",
   "execution_count": 9,
   "id": "e3565103",
   "metadata": {},
   "outputs": [
    {
     "data": {
      "text/plain": [
       "85.81"
      ]
     },
     "execution_count": 9,
     "metadata": {},
     "output_type": "execute_result"
    }
   ],
   "source": [
    "# Calculate the percentage of students who passeed reading (hint: look at how the math percentage was calculated)  \n",
    "passing_reading = df.loc[(df[\"reading_score\"]>=70),:]\n",
    "passing_reading_count = passing_reading[\"reading_score\"].count()\n",
    "passing_reading_percentage = round((passing_reading[\"reading_score\"].count() / student_count.nunique()) * 100, 2)\n",
    "passing_reading_percentage"
   ]
  },
  {
   "cell_type": "code",
   "execution_count": 10,
   "id": "1b564990",
   "metadata": {},
   "outputs": [
    {
     "data": {
      "text/plain": [
       "65.17"
      ]
     },
     "execution_count": 10,
     "metadata": {},
     "output_type": "execute_result"
    }
   ],
   "source": [
    "# Use the following to calculate the percentage of students that passed math and reading\n",
    "passing_reading_math = df.loc[(df[\"math_score\"]>=70) & (df[\"reading_score\"]>=70),:]\n",
    "passing_reading_math_count = passing_reading_math[\"reading_score\"].count()\n",
    "overall_passing_rate = round((passing_reading_math[\"reading_score\"].count() / student_count.nunique()) * 100, 2) \n",
    "overall_passing_rate"
   ]
  },
  {
   "cell_type": "code",
   "execution_count": 11,
   "id": "46b7ac1f",
   "metadata": {},
   "outputs": [
    {
     "data": {
      "text/html": [
       "<div>\n",
       "<style scoped>\n",
       "    .dataframe tbody tr th:only-of-type {\n",
       "        vertical-align: middle;\n",
       "    }\n",
       "\n",
       "    .dataframe tbody tr th {\n",
       "        vertical-align: top;\n",
       "    }\n",
       "\n",
       "    .dataframe thead th {\n",
       "        text-align: right;\n",
       "    }\n",
       "</style>\n",
       "<table border=\"1\" class=\"dataframe\">\n",
       "  <thead>\n",
       "    <tr style=\"text-align: right;\">\n",
       "      <th></th>\n",
       "      <th>Total Schools</th>\n",
       "      <th>Total Students</th>\n",
       "      <th>Total Budget</th>\n",
       "      <th>Average Math Score</th>\n",
       "      <th>Average Reading Score</th>\n",
       "      <th>% Passing Math</th>\n",
       "      <th>% Passing Reading</th>\n",
       "      <th>% Overall Passing</th>\n",
       "    </tr>\n",
       "  </thead>\n",
       "  <tbody>\n",
       "    <tr>\n",
       "      <th>0</th>\n",
       "      <td>15</td>\n",
       "      <td>39,170</td>\n",
       "      <td>$24,649,428.00</td>\n",
       "      <td>78.985371</td>\n",
       "      <td>81.87784</td>\n",
       "      <td>74.98</td>\n",
       "      <td>85.81</td>\n",
       "      <td>65.17</td>\n",
       "    </tr>\n",
       "  </tbody>\n",
       "</table>\n",
       "</div>"
      ],
      "text/plain": [
       "   Total Schools Total Students    Total Budget  Average Math Score  \\\n",
       "0             15         39,170  $24,649,428.00           78.985371   \n",
       "\n",
       "   Average Reading Score  % Passing Math  % Passing Reading  % Overall Passing  \n",
       "0               81.87784           74.98              85.81              65.17  "
      ]
     },
     "execution_count": 11,
     "metadata": {},
     "output_type": "execute_result"
    }
   ],
   "source": [
    "# Create a high-level snapshot of the district's key metrics in a DataFrame\n",
    "district_summary = pd.DataFrame({\"Total Schools\": [school_count.nunique()],\n",
    "                  \"Total Students\": [student_count.nunique()],\n",
    "                  \"Total Budget\": [total_budget_df],\n",
    "                  \"Average Math Score\": [average_math_score],\n",
    "                  \"Average Reading Score\": [average_reading_score],\n",
    "                  \"% Passing Math\": [passed_math_rate],\n",
    "                  \"% Passing Reading\": [passing_reading_percentage],               \n",
    "                  \"% Overall Passing\": [overall_passing_rate]})\n",
    "\n",
    "# Formatting\n",
    "district_summary[\"Total Students\"] = district_summary[\"Total Students\"].map(\"{:,}\".format)\n",
    "district_summary[\"Total Budget\"] = district_summary[\"Total Budget\"].map(\"${:,.2f}\".format)\n",
    "\n",
    "# Display the DataFrame\n",
    "district_summary"
   ]
  },
  {
   "cell_type": "markdown",
   "id": "953d3aa8",
   "metadata": {},
   "source": [
    "## School Sumary"
   ]
  },
  {
   "cell_type": "code",
   "execution_count": 12,
   "id": "a1507da6",
   "metadata": {},
   "outputs": [
    {
     "data": {
      "text/plain": [
       "school_name\n",
       "Huang High School        District\n",
       "Figueroa High School     District\n",
       "Shelton High School       Charter\n",
       "Hernandez High School    District\n",
       "Griffin High School       Charter\n",
       "Wilson High School        Charter\n",
       "Cabrera High School       Charter\n",
       "Bailey High School       District\n",
       "Holden High School        Charter\n",
       "Pena High School          Charter\n",
       "Wright High School        Charter\n",
       "Rodriguez High School    District\n",
       "Johnson High School      District\n",
       "Ford High School         District\n",
       "Thomas High School        Charter\n",
       "Name: type, dtype: object"
      ]
     },
     "execution_count": 12,
     "metadata": {},
     "output_type": "execute_result"
    }
   ],
   "source": [
    "# Use the code provided to select the school type\n",
    "school_types = school_data.set_index([\"school_name\"])[\"type\"]\n",
    "school_types"
   ]
  },
  {
   "cell_type": "code",
   "execution_count": 13,
   "id": "791df98f",
   "metadata": {},
   "outputs": [
    {
     "data": {
      "text/plain": [
       "school_name\n",
       "Bailey High School       4976\n",
       "Cabrera High School      1858\n",
       "Figueroa High School     2949\n",
       "Ford High School         2739\n",
       "Griffin High School      1468\n",
       "Hernandez High School    4635\n",
       "Holden High School        427\n",
       "Huang High School        2917\n",
       "Johnson High School      4761\n",
       "Pena High School          962\n",
       "Rodriguez High School    3999\n",
       "Shelton High School      1761\n",
       "Thomas High School       1635\n",
       "Wilson High School       2283\n",
       "Wright High School       1800\n",
       "Name: school_name, dtype: int64"
      ]
     },
     "execution_count": 13,
     "metadata": {},
     "output_type": "execute_result"
    }
   ],
   "source": [
    "# Calculate the total student count\n",
    "per_school_counts = df.groupby(\"school_name\")[\"school_name\"].count()\n",
    "per_school_counts"
   ]
  },
  {
   "cell_type": "code",
   "execution_count": 14,
   "id": "b2cffa58",
   "metadata": {},
   "outputs": [
    {
     "data": {
      "text/plain": [
       "school_name\n",
       "Bailey High School       628.0\n",
       "Cabrera High School      582.0\n",
       "Figueroa High School     639.0\n",
       "Ford High School         644.0\n",
       "Griffin High School      625.0\n",
       "Hernandez High School    652.0\n",
       "Holden High School       581.0\n",
       "Huang High School        655.0\n",
       "Johnson High School      650.0\n",
       "Pena High School         609.0\n",
       "Rodriguez High School    637.0\n",
       "Shelton High School      600.0\n",
       "Thomas High School       638.0\n",
       "Wilson High School       578.0\n",
       "Wright High School       583.0\n",
       "dtype: float64"
      ]
     },
     "execution_count": 14,
     "metadata": {},
     "output_type": "execute_result"
    }
   ],
   "source": [
    "# Calculate the total school budget and per capita spending\n",
    "per_school_budget = df.groupby(\"school_name\")[\"budget\"].mean()\n",
    "per_school_capita = per_school_budget / per_school_counts\n",
    "per_school_capita"
   ]
  },
  {
   "cell_type": "code",
   "execution_count": 15,
   "id": "65bdeb69",
   "metadata": {},
   "outputs": [
    {
     "name": "stdout",
     "output_type": "stream",
     "text": [
      "Average Math Test Score school_name\n",
      "Bailey High School       77.048432\n",
      "Cabrera High School      83.061895\n",
      "Figueroa High School     76.711767\n",
      "Ford High School         77.102592\n",
      "Griffin High School      83.351499\n",
      "Hernandez High School    77.289752\n",
      "Holden High School       83.803279\n",
      "Huang High School        76.629414\n",
      "Johnson High School      77.072464\n",
      "Pena High School         83.839917\n",
      "Rodriguez High School    76.842711\n",
      "Shelton High School      83.359455\n",
      "Thomas High School       83.418349\n",
      "Wilson High School       83.274201\n",
      "Wright High School       83.682222\n",
      "Name: math_score, dtype: float64\n"
     ]
    }
   ],
   "source": [
    "# Calculate the average math test scores\n",
    "per_school_math = df.groupby(\"school_name\")[\"math_score\"].mean()\n",
    "print(f\"Average Math Test Score {per_school_math}\")\n"
   ]
  },
  {
   "cell_type": "code",
   "execution_count": 16,
   "id": "7c1a20f6",
   "metadata": {},
   "outputs": [
    {
     "name": "stdout",
     "output_type": "stream",
     "text": [
      "Average Reading Test Score school_name\n",
      "Bailey High School       81.033963\n",
      "Cabrera High School      83.975780\n",
      "Figueroa High School     81.158020\n",
      "Ford High School         80.746258\n",
      "Griffin High School      83.816757\n",
      "Hernandez High School    80.934412\n",
      "Holden High School       83.814988\n",
      "Huang High School        81.182722\n",
      "Johnson High School      80.966394\n",
      "Pena High School         84.044699\n",
      "Rodriguez High School    80.744686\n",
      "Shelton High School      83.725724\n",
      "Thomas High School       83.848930\n",
      "Wilson High School       83.989488\n",
      "Wright High School       83.955000\n",
      "Name: reading_score, dtype: float64\n"
     ]
    }
   ],
   "source": [
    "# Calculate the average reading test scores\n",
    "per_school_reading = df.groupby(\"school_name\")[\"reading_score\"].mean()\n",
    "print(f\"Average Reading Test Score {per_school_reading}\")"
   ]
  },
  {
   "cell_type": "code",
   "execution_count": 17,
   "id": "062731a6",
   "metadata": {},
   "outputs": [
    {
     "data": {
      "text/plain": [
       "school_name\n",
       "Bailey High School       66.68\n",
       "Cabrera High School      94.13\n",
       "Figueroa High School     65.99\n",
       "Ford High School         68.31\n",
       "Griffin High School      93.39\n",
       "Hernandez High School    66.75\n",
       "Holden High School       92.51\n",
       "Huang High School        65.68\n",
       "Johnson High School      66.06\n",
       "Pena High School         94.59\n",
       "Rodriguez High School    66.37\n",
       "Shelton High School      93.87\n",
       "Thomas High School       93.27\n",
       "Wilson High School       93.87\n",
       "Wright High School       93.33\n",
       "dtype: float64"
      ]
     },
     "execution_count": 17,
     "metadata": {},
     "output_type": "execute_result"
    }
   ],
   "source": [
    "# % passing math (the percentage of students who passed math)\n",
    "passing_math_per_school = df.loc[(df[\"math_score\"]>=70),([\"math_score\",\"school_name\"])]\n",
    "passing_math_per_school_count =  passing_math_per_school.groupby(\"school_name\")[\"math_score\"].count()\n",
    "passing_math_per_school_rate = round(passing_math_per_school_count / per_school_counts * 100,2)\n",
    "passing_math_per_school_rate"
   ]
  },
  {
   "cell_type": "code",
   "execution_count": 18,
   "id": "79933264",
   "metadata": {},
   "outputs": [
    {
     "data": {
      "text/plain": [
       "school_name\n",
       "Bailey High School       81.93\n",
       "Cabrera High School      97.04\n",
       "Figueroa High School     80.74\n",
       "Ford High School         79.30\n",
       "Griffin High School      97.14\n",
       "Hernandez High School    80.86\n",
       "Holden High School       96.25\n",
       "Huang High School        81.32\n",
       "Johnson High School      81.22\n",
       "Pena High School         95.95\n",
       "Rodriguez High School    80.22\n",
       "Shelton High School      95.85\n",
       "Thomas High School       97.31\n",
       "Wilson High School       96.54\n",
       "Wright High School       96.61\n",
       "dtype: float64"
      ]
     },
     "execution_count": 18,
     "metadata": {},
     "output_type": "execute_result"
    }
   ],
   "source": [
    "# % passing reading (the percentage of students who passed reading)\n",
    "passing_reading_per_school = df.loc[(df[\"reading_score\"]>=70),([\"reading_score\",\"school_name\"])]\n",
    "passing_reading_per_school_count =  passing_reading_per_school.groupby(\"school_name\")[\"reading_score\"].count()\n",
    "passing_reading_per_school_rate = round(passing_reading_per_school_count / per_school_counts * 100,2)\n",
    "passing_reading_per_school_rate"
   ]
  },
  {
   "cell_type": "code",
   "execution_count": 19,
   "id": "11c1475f",
   "metadata": {},
   "outputs": [
    {
     "data": {
      "text/plain": [
       "school_name\n",
       "Bailey High School       54.64\n",
       "Cabrera High School      91.33\n",
       "Figueroa High School     53.20\n",
       "Ford High School         54.29\n",
       "Griffin High School      90.60\n",
       "Hernandez High School    53.53\n",
       "Holden High School       89.23\n",
       "Huang High School        53.51\n",
       "Johnson High School      53.54\n",
       "Pena High School         90.54\n",
       "Rodriguez High School    52.99\n",
       "Shelton High School      89.89\n",
       "Thomas High School       90.95\n",
       "Wilson High School       90.58\n",
       "Wright High School       90.33\n",
       "dtype: float64"
      ]
     },
     "execution_count": 19,
     "metadata": {},
     "output_type": "execute_result"
    }
   ],
   "source": [
    "# % overall passing (the percentage of students who passed math AND reading)\n",
    "passing_reading_math_per_school = df.loc[(df[\"reading_score\"]>=70) & (df[\"math_score\"]>=70),([\"reading_score\",\"math_score\",\"school_name\"])]\n",
    "passing_reading_math_per_school_count =  passing_reading_math_per_school.groupby(\"school_name\")[\"reading_score\"].count()\n",
    "passing_reading_math_per_school_rate = round(passing_reading_math_per_school_count / per_school_counts * 100,2)\n",
    "passing_reading_math_per_school_rate"
   ]
  },
  {
   "cell_type": "code",
   "execution_count": 23,
   "id": "d9b75bd4",
   "metadata": {},
   "outputs": [
    {
     "data": {
      "text/html": [
       "<div>\n",
       "<style scoped>\n",
       "    .dataframe tbody tr th:only-of-type {\n",
       "        vertical-align: middle;\n",
       "    }\n",
       "\n",
       "    .dataframe tbody tr th {\n",
       "        vertical-align: top;\n",
       "    }\n",
       "\n",
       "    .dataframe thead th {\n",
       "        text-align: right;\n",
       "    }\n",
       "</style>\n",
       "<table border=\"1\" class=\"dataframe\">\n",
       "  <thead>\n",
       "    <tr style=\"text-align: right;\">\n",
       "      <th></th>\n",
       "      <th>School Type</th>\n",
       "      <th>Total Students</th>\n",
       "      <th>Total School Budget</th>\n",
       "      <th>Per Student Budget</th>\n",
       "      <th>Average Math Score</th>\n",
       "      <th>Average Reading Score</th>\n",
       "      <th>% Passing Math</th>\n",
       "      <th>% Passing Reading</th>\n",
       "      <th>% Overall Passing</th>\n",
       "    </tr>\n",
       "    <tr>\n",
       "      <th>school_name</th>\n",
       "      <th></th>\n",
       "      <th></th>\n",
       "      <th></th>\n",
       "      <th></th>\n",
       "      <th></th>\n",
       "      <th></th>\n",
       "      <th></th>\n",
       "      <th></th>\n",
       "      <th></th>\n",
       "    </tr>\n",
       "  </thead>\n",
       "  <tbody>\n",
       "    <tr>\n",
       "      <th>Bailey High School</th>\n",
       "      <td>District</td>\n",
       "      <td>4,976</td>\n",
       "      <td>$3,124,928.00</td>\n",
       "      <td>628.0</td>\n",
       "      <td>77.048432</td>\n",
       "      <td>81.033963</td>\n",
       "      <td>66.68</td>\n",
       "      <td>81.93</td>\n",
       "      <td>54.64</td>\n",
       "    </tr>\n",
       "    <tr>\n",
       "      <th>Cabrera High School</th>\n",
       "      <td>Charter</td>\n",
       "      <td>1,858</td>\n",
       "      <td>$1,081,356.00</td>\n",
       "      <td>582.0</td>\n",
       "      <td>83.061895</td>\n",
       "      <td>83.975780</td>\n",
       "      <td>94.13</td>\n",
       "      <td>97.04</td>\n",
       "      <td>91.33</td>\n",
       "    </tr>\n",
       "    <tr>\n",
       "      <th>Figueroa High School</th>\n",
       "      <td>District</td>\n",
       "      <td>2,949</td>\n",
       "      <td>$1,884,411.00</td>\n",
       "      <td>639.0</td>\n",
       "      <td>76.711767</td>\n",
       "      <td>81.158020</td>\n",
       "      <td>65.99</td>\n",
       "      <td>80.74</td>\n",
       "      <td>53.20</td>\n",
       "    </tr>\n",
       "    <tr>\n",
       "      <th>Ford High School</th>\n",
       "      <td>District</td>\n",
       "      <td>2,739</td>\n",
       "      <td>$1,763,916.00</td>\n",
       "      <td>644.0</td>\n",
       "      <td>77.102592</td>\n",
       "      <td>80.746258</td>\n",
       "      <td>68.31</td>\n",
       "      <td>79.30</td>\n",
       "      <td>54.29</td>\n",
       "    </tr>\n",
       "    <tr>\n",
       "      <th>Griffin High School</th>\n",
       "      <td>Charter</td>\n",
       "      <td>1,468</td>\n",
       "      <td>$917,500.00</td>\n",
       "      <td>625.0</td>\n",
       "      <td>83.351499</td>\n",
       "      <td>83.816757</td>\n",
       "      <td>93.39</td>\n",
       "      <td>97.14</td>\n",
       "      <td>90.60</td>\n",
       "    </tr>\n",
       "    <tr>\n",
       "      <th>Hernandez High School</th>\n",
       "      <td>District</td>\n",
       "      <td>4,635</td>\n",
       "      <td>$3,022,020.00</td>\n",
       "      <td>652.0</td>\n",
       "      <td>77.289752</td>\n",
       "      <td>80.934412</td>\n",
       "      <td>66.75</td>\n",
       "      <td>80.86</td>\n",
       "      <td>53.53</td>\n",
       "    </tr>\n",
       "    <tr>\n",
       "      <th>Holden High School</th>\n",
       "      <td>Charter</td>\n",
       "      <td>427</td>\n",
       "      <td>$248,087.00</td>\n",
       "      <td>581.0</td>\n",
       "      <td>83.803279</td>\n",
       "      <td>83.814988</td>\n",
       "      <td>92.51</td>\n",
       "      <td>96.25</td>\n",
       "      <td>89.23</td>\n",
       "    </tr>\n",
       "    <tr>\n",
       "      <th>Huang High School</th>\n",
       "      <td>District</td>\n",
       "      <td>2,917</td>\n",
       "      <td>$1,910,635.00</td>\n",
       "      <td>655.0</td>\n",
       "      <td>76.629414</td>\n",
       "      <td>81.182722</td>\n",
       "      <td>65.68</td>\n",
       "      <td>81.32</td>\n",
       "      <td>53.51</td>\n",
       "    </tr>\n",
       "    <tr>\n",
       "      <th>Johnson High School</th>\n",
       "      <td>District</td>\n",
       "      <td>4,761</td>\n",
       "      <td>$3,094,650.00</td>\n",
       "      <td>650.0</td>\n",
       "      <td>77.072464</td>\n",
       "      <td>80.966394</td>\n",
       "      <td>66.06</td>\n",
       "      <td>81.22</td>\n",
       "      <td>53.54</td>\n",
       "    </tr>\n",
       "    <tr>\n",
       "      <th>Pena High School</th>\n",
       "      <td>Charter</td>\n",
       "      <td>962</td>\n",
       "      <td>$585,858.00</td>\n",
       "      <td>609.0</td>\n",
       "      <td>83.839917</td>\n",
       "      <td>84.044699</td>\n",
       "      <td>94.59</td>\n",
       "      <td>95.95</td>\n",
       "      <td>90.54</td>\n",
       "    </tr>\n",
       "    <tr>\n",
       "      <th>Rodriguez High School</th>\n",
       "      <td>District</td>\n",
       "      <td>3,999</td>\n",
       "      <td>$2,547,363.00</td>\n",
       "      <td>637.0</td>\n",
       "      <td>76.842711</td>\n",
       "      <td>80.744686</td>\n",
       "      <td>66.37</td>\n",
       "      <td>80.22</td>\n",
       "      <td>52.99</td>\n",
       "    </tr>\n",
       "    <tr>\n",
       "      <th>Shelton High School</th>\n",
       "      <td>Charter</td>\n",
       "      <td>1,761</td>\n",
       "      <td>$1,056,600.00</td>\n",
       "      <td>600.0</td>\n",
       "      <td>83.359455</td>\n",
       "      <td>83.725724</td>\n",
       "      <td>93.87</td>\n",
       "      <td>95.85</td>\n",
       "      <td>89.89</td>\n",
       "    </tr>\n",
       "    <tr>\n",
       "      <th>Thomas High School</th>\n",
       "      <td>Charter</td>\n",
       "      <td>1,635</td>\n",
       "      <td>$1,043,130.00</td>\n",
       "      <td>638.0</td>\n",
       "      <td>83.418349</td>\n",
       "      <td>83.848930</td>\n",
       "      <td>93.27</td>\n",
       "      <td>97.31</td>\n",
       "      <td>90.95</td>\n",
       "    </tr>\n",
       "    <tr>\n",
       "      <th>Wilson High School</th>\n",
       "      <td>Charter</td>\n",
       "      <td>2,283</td>\n",
       "      <td>$1,319,574.00</td>\n",
       "      <td>578.0</td>\n",
       "      <td>83.274201</td>\n",
       "      <td>83.989488</td>\n",
       "      <td>93.87</td>\n",
       "      <td>96.54</td>\n",
       "      <td>90.58</td>\n",
       "    </tr>\n",
       "    <tr>\n",
       "      <th>Wright High School</th>\n",
       "      <td>Charter</td>\n",
       "      <td>1,800</td>\n",
       "      <td>$1,049,400.00</td>\n",
       "      <td>583.0</td>\n",
       "      <td>83.682222</td>\n",
       "      <td>83.955000</td>\n",
       "      <td>93.33</td>\n",
       "      <td>96.61</td>\n",
       "      <td>90.33</td>\n",
       "    </tr>\n",
       "  </tbody>\n",
       "</table>\n",
       "</div>"
      ],
      "text/plain": [
       "                      School Type Total Students Total School Budget  \\\n",
       "school_name                                                            \n",
       "Bailey High School       District          4,976       $3,124,928.00   \n",
       "Cabrera High School       Charter          1,858       $1,081,356.00   \n",
       "Figueroa High School     District          2,949       $1,884,411.00   \n",
       "Ford High School         District          2,739       $1,763,916.00   \n",
       "Griffin High School       Charter          1,468         $917,500.00   \n",
       "Hernandez High School    District          4,635       $3,022,020.00   \n",
       "Holden High School        Charter            427         $248,087.00   \n",
       "Huang High School        District          2,917       $1,910,635.00   \n",
       "Johnson High School      District          4,761       $3,094,650.00   \n",
       "Pena High School          Charter            962         $585,858.00   \n",
       "Rodriguez High School    District          3,999       $2,547,363.00   \n",
       "Shelton High School       Charter          1,761       $1,056,600.00   \n",
       "Thomas High School        Charter          1,635       $1,043,130.00   \n",
       "Wilson High School        Charter          2,283       $1,319,574.00   \n",
       "Wright High School        Charter          1,800       $1,049,400.00   \n",
       "\n",
       "                       Per Student Budget  Average Math Score  \\\n",
       "school_name                                                     \n",
       "Bailey High School                  628.0           77.048432   \n",
       "Cabrera High School                 582.0           83.061895   \n",
       "Figueroa High School                639.0           76.711767   \n",
       "Ford High School                    644.0           77.102592   \n",
       "Griffin High School                 625.0           83.351499   \n",
       "Hernandez High School               652.0           77.289752   \n",
       "Holden High School                  581.0           83.803279   \n",
       "Huang High School                   655.0           76.629414   \n",
       "Johnson High School                 650.0           77.072464   \n",
       "Pena High School                    609.0           83.839917   \n",
       "Rodriguez High School               637.0           76.842711   \n",
       "Shelton High School                 600.0           83.359455   \n",
       "Thomas High School                  638.0           83.418349   \n",
       "Wilson High School                  578.0           83.274201   \n",
       "Wright High School                  583.0           83.682222   \n",
       "\n",
       "                       Average Reading Score  % Passing Math  \\\n",
       "school_name                                                    \n",
       "Bailey High School                 81.033963           66.68   \n",
       "Cabrera High School                83.975780           94.13   \n",
       "Figueroa High School               81.158020           65.99   \n",
       "Ford High School                   80.746258           68.31   \n",
       "Griffin High School                83.816757           93.39   \n",
       "Hernandez High School              80.934412           66.75   \n",
       "Holden High School                 83.814988           92.51   \n",
       "Huang High School                  81.182722           65.68   \n",
       "Johnson High School                80.966394           66.06   \n",
       "Pena High School                   84.044699           94.59   \n",
       "Rodriguez High School              80.744686           66.37   \n",
       "Shelton High School                83.725724           93.87   \n",
       "Thomas High School                 83.848930           93.27   \n",
       "Wilson High School                 83.989488           93.87   \n",
       "Wright High School                 83.955000           93.33   \n",
       "\n",
       "                       % Passing Reading  % Overall Passing  \n",
       "school_name                                                  \n",
       "Bailey High School                 81.93              54.64  \n",
       "Cabrera High School                97.04              91.33  \n",
       "Figueroa High School               80.74              53.20  \n",
       "Ford High School                   79.30              54.29  \n",
       "Griffin High School                97.14              90.60  \n",
       "Hernandez High School              80.86              53.53  \n",
       "Holden High School                 96.25              89.23  \n",
       "Huang High School                  81.32              53.51  \n",
       "Johnson High School                81.22              53.54  \n",
       "Pena High School                   95.95              90.54  \n",
       "Rodriguez High School              80.22              52.99  \n",
       "Shelton High School                95.85              89.89  \n",
       "Thomas High School                 97.31              90.95  \n",
       "Wilson High School                 96.54              90.58  \n",
       "Wright High School                 96.61              90.33  "
      ]
     },
     "execution_count": 23,
     "metadata": {},
     "output_type": "execute_result"
    }
   ],
   "source": [
    "# Create a DataFrame called `per_school_summary` with columns for the calculations above.\n",
    "per_school_summary = pd.DataFrame({\"School Type\": school_types,\n",
    "                  \"Total Students\": per_school_counts,\n",
    "                  \"Total School Budget\": per_school_budget,\n",
    "                  \"Per Student Budget\": per_school_capita,\n",
    "                  \"Average Math Score\": per_school_math,\n",
    "                  \"Average Reading Score\": per_school_reading,\n",
    "                  \"% Passing Math\": passing_math_per_school_rate,\n",
    "                  \"% Passing Reading\": passing_reading_per_school_rate,\n",
    "                  \"% Overall Passing\": passing_reading_math_per_school_rate})\n",
    "\n",
    "# Formatting\n",
    "per_school_summary[\"Total Students\"] = per_school_summary[\"Total Students\"].map(\"{:,}\".format)\n",
    "per_school_summary[\"Total School Budget\"] = per_school_summary[\"Total School Budget\"].map(\"${:,.2f}\".format)\n",
    "\n",
    "# Display the DataFrame\n",
    "per_school_summary"
   ]
  },
  {
   "cell_type": "code",
   "execution_count": null,
   "id": "976bbe4b",
   "metadata": {},
   "outputs": [],
   "source": []
  }
 ],
 "metadata": {
  "kernelspec": {
   "display_name": "Python 3 (ipykernel)",
   "language": "python",
   "name": "python3"
  },
  "language_info": {
   "codemirror_mode": {
    "name": "ipython",
    "version": 3
   },
   "file_extension": ".py",
   "mimetype": "text/x-python",
   "name": "python",
   "nbconvert_exporter": "python",
   "pygments_lexer": "ipython3",
   "version": "3.9.13"
  }
 },
 "nbformat": 4,
 "nbformat_minor": 5
}
